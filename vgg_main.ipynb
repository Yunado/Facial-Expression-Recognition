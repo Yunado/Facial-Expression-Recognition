{
  "nbformat": 4,
  "nbformat_minor": 0,
  "metadata": {
    "colab": {
      "name": "vgg_main.ipynb",
      "provenance": [],
      "collapsed_sections": []
    },
    "kernelspec": {
      "name": "python3",
      "display_name": "Python 3"
    },
    "accelerator": "GPU"
  },
  "cells": [
    {
      "cell_type": "code",
      "metadata": {
        "colab": {
          "base_uri": "https://localhost:8080/"
        },
        "id": "JVtl8MctAOr-",
        "outputId": "98c61b88-9615-4de3-d62c-7e4bc70c4c15"
      },
      "source": [
        "pip install scikit-plot"
      ],
      "execution_count": null,
      "outputs": [
        {
          "output_type": "stream",
          "text": [
            "Collecting scikit-plot\n",
            "  Downloading https://files.pythonhosted.org/packages/7c/47/32520e259340c140a4ad27c1b97050dd3254fdc517b1d59974d47037510e/scikit_plot-0.3.7-py3-none-any.whl\n",
            "Requirement already satisfied: joblib>=0.10 in /usr/local/lib/python3.6/dist-packages (from scikit-plot) (1.0.0)\n",
            "Requirement already satisfied: matplotlib>=1.4.0 in /usr/local/lib/python3.6/dist-packages (from scikit-plot) (3.2.2)\n",
            "Requirement already satisfied: scikit-learn>=0.18 in /usr/local/lib/python3.6/dist-packages (from scikit-plot) (0.22.2.post1)\n",
            "Requirement already satisfied: scipy>=0.9 in /usr/local/lib/python3.6/dist-packages (from scikit-plot) (1.4.1)\n",
            "Requirement already satisfied: cycler>=0.10 in /usr/local/lib/python3.6/dist-packages (from matplotlib>=1.4.0->scikit-plot) (0.10.0)\n",
            "Requirement already satisfied: kiwisolver>=1.0.1 in /usr/local/lib/python3.6/dist-packages (from matplotlib>=1.4.0->scikit-plot) (1.3.1)\n",
            "Requirement already satisfied: numpy>=1.11 in /usr/local/lib/python3.6/dist-packages (from matplotlib>=1.4.0->scikit-plot) (1.19.4)\n",
            "Requirement already satisfied: python-dateutil>=2.1 in /usr/local/lib/python3.6/dist-packages (from matplotlib>=1.4.0->scikit-plot) (2.8.1)\n",
            "Requirement already satisfied: pyparsing!=2.0.4,!=2.1.2,!=2.1.6,>=2.0.1 in /usr/local/lib/python3.6/dist-packages (from matplotlib>=1.4.0->scikit-plot) (2.4.7)\n",
            "Requirement already satisfied: six in /usr/local/lib/python3.6/dist-packages (from cycler>=0.10->matplotlib>=1.4.0->scikit-plot) (1.15.0)\n",
            "Installing collected packages: scikit-plot\n",
            "Successfully installed scikit-plot-0.3.7\n"
          ],
          "name": "stdout"
        }
      ]
    },
    {
      "cell_type": "code",
      "metadata": {
        "colab": {
          "base_uri": "https://localhost:8080/"
        },
        "id": "CQwmfNa6TH1O",
        "outputId": "9b9887f2-9f82-4223-d94d-b5ffab8182cf"
      },
      "source": [
        "# the usual\r\n",
        "import numpy as np\r\n",
        "import pandas as pd\r\n",
        "import matplotlib.pyplot as plt\r\n",
        "import os\r\n",
        "import cv2\r\n",
        "import numpy.linalg as la\r\n",
        "from tensorflow.keras.layers import Dropout, BatchNormalization, LeakyReLU, Activation\r\n",
        "from tensorflow.keras.preprocessing.image import ImageDataGenerator\r\n",
        "from tensorflow.keras.callbacks import Callback, EarlyStopping, ReduceLROnPlateau\r\n",
        "from sklearn.model_selection import KFold\r\n",
        "from tensorflow.keras.utils import plot_model\r\n",
        "from matplotlib import pyplot\r\n",
        "import math\r\n",
        "import numpy as np\r\n",
        "import pandas as pd\r\n",
        "\r\n",
        "import scikitplot\r\n",
        "import seaborn as sns\r\n",
        "from matplotlib import pyplot\r\n",
        "\r\n",
        "from sklearn.model_selection import train_test_split\r\n",
        "from sklearn.preprocessing import LabelEncoder\r\n",
        "from sklearn.metrics import classification_report\r\n",
        "\r\n",
        "import tensorflow as tf\r\n",
        "from tensorflow.keras import optimizers\r\n",
        "from tensorflow.keras.datasets import mnist\r\n",
        "from tensorflow.keras.models import Sequential\r\n",
        "from tensorflow.keras.layers import Flatten, Dense, Conv2D, MaxPooling2D\r\n",
        "from tensorflow.keras.layers import Dropout, BatchNormalization, LeakyReLU, Activation\r\n",
        "from tensorflow.keras.callbacks import Callback, EarlyStopping, ReduceLROnPlateau\r\n",
        "from tensorflow.keras.preprocessing.image import ImageDataGenerator\r\n",
        "\r\n",
        "from keras.utils import np_utils\r\n",
        "%pylab inline\r\n",
        "from google.colab import drive\r\n",
        "drive.mount('/content/drive/', force_remount=True)\r\n"
      ],
      "execution_count": 2,
      "outputs": [
        {
          "output_type": "stream",
          "text": [
            "Populating the interactive namespace from numpy and matplotlib\n",
            "Mounted at /content/drive/\n"
          ],
          "name": "stdout"
        }
      ]
    },
    {
      "cell_type": "code",
      "metadata": {
        "colab": {
          "base_uri": "https://localhost:8080/"
        },
        "id": "HMlA4PfsVRge",
        "outputId": "81fd4372-0a5c-4b4f-c358-fd8bb52db699"
      },
      "source": [
        "cd \"./drive/My Drive/CSC420_Project\""
      ],
      "execution_count": 3,
      "outputs": [
        {
          "output_type": "stream",
          "text": [
            "/content/drive/My Drive/CSC420_Project\n"
          ],
          "name": "stdout"
        }
      ]
    },
    {
      "cell_type": "code",
      "metadata": {
        "colab": {
          "base_uri": "https://localhost:8080/",
          "height": 217
        },
        "id": "4MjgyuKSVgD3",
        "outputId": "123446ca-0f76-473f-ded3-65289de0e119"
      },
      "source": [
        "df = pd.read_csv('./bigger_data/data/500_picts_satz.csv')\r\n",
        "og_500_path = './bigger_data/og_500/'\r\n",
        "edge_500_path = './bigger_data/edge_500/'\r\n",
        "gradient_500_path = './bigger_data/gradient_500/'\r\n",
        "\r\n",
        "print(df.shape)\r\n",
        "df.head()"
      ],
      "execution_count": 4,
      "outputs": [
        {
          "output_type": "stream",
          "text": [
            "(500, 3)\n"
          ],
          "name": "stdout"
        },
        {
          "output_type": "execute_result",
          "data": {
            "text/html": [
              "<div>\n",
              "<style scoped>\n",
              "    .dataframe tbody tr th:only-of-type {\n",
              "        vertical-align: middle;\n",
              "    }\n",
              "\n",
              "    .dataframe tbody tr th {\n",
              "        vertical-align: top;\n",
              "    }\n",
              "\n",
              "    .dataframe thead th {\n",
              "        text-align: right;\n",
              "    }\n",
              "</style>\n",
              "<table border=\"1\" class=\"dataframe\">\n",
              "  <thead>\n",
              "    <tr style=\"text-align: right;\">\n",
              "      <th></th>\n",
              "      <th>id</th>\n",
              "      <th>image</th>\n",
              "      <th>emotion</th>\n",
              "    </tr>\n",
              "  </thead>\n",
              "  <tbody>\n",
              "    <tr>\n",
              "      <th>0</th>\n",
              "      <td>906</td>\n",
              "      <td>Sourav_Ganguly_0003.jpg</td>\n",
              "      <td>fear</td>\n",
              "    </tr>\n",
              "    <tr>\n",
              "      <th>1</th>\n",
              "      <td>906</td>\n",
              "      <td>Sourav_Ganguly_0004.jpg</td>\n",
              "      <td>happiness</td>\n",
              "    </tr>\n",
              "    <tr>\n",
              "      <th>2</th>\n",
              "      <td>906</td>\n",
              "      <td>Sourav_Ganguly_0005.jpg</td>\n",
              "      <td>neutral</td>\n",
              "    </tr>\n",
              "    <tr>\n",
              "      <th>3</th>\n",
              "      <td>906</td>\n",
              "      <td>Spencer_Abraham_0001.jpg</td>\n",
              "      <td>anger</td>\n",
              "    </tr>\n",
              "    <tr>\n",
              "      <th>4</th>\n",
              "      <td>906</td>\n",
              "      <td>Spencer_Abraham_0003.jpg</td>\n",
              "      <td>anger</td>\n",
              "    </tr>\n",
              "  </tbody>\n",
              "</table>\n",
              "</div>"
            ],
            "text/plain": [
              "    id                     image    emotion\n",
              "0  906   Sourav_Ganguly_0003.jpg       fear\n",
              "1  906   Sourav_Ganguly_0004.jpg  happiness\n",
              "2  906   Sourav_Ganguly_0005.jpg    neutral\n",
              "3  906  Spencer_Abraham_0001.jpg      anger\n",
              "4  906  Spencer_Abraham_0003.jpg      anger"
            ]
          },
          "metadata": {
            "tags": []
          },
          "execution_count": 4
        }
      ]
    },
    {
      "cell_type": "code",
      "metadata": {
        "colab": {
          "base_uri": "https://localhost:8080/",
          "height": 334
        },
        "id": "3f2NZo57Vjtq",
        "outputId": "33e613f4-0ba3-41ed-8926-dd5275134d86"
      },
      "source": [
        "sns.countplot(df.emotion)\r\n",
        "pyplot.show()"
      ],
      "execution_count": 5,
      "outputs": [
        {
          "output_type": "stream",
          "text": [
            "/usr/local/lib/python3.6/dist-packages/seaborn/_decorators.py:43: FutureWarning: Pass the following variable as a keyword arg: x. From version 0.12, the only valid positional argument will be `data`, and passing other arguments without an explicit keyword will result in an error or misinterpretation.\n",
            "  FutureWarning\n"
          ],
          "name": "stderr"
        },
        {
          "output_type": "display_data",
          "data": {
            "image/png": "[encoded data removed]",
            "text/plain": [
              "<Figure size 432x288 with 1 Axes>"
            ]
          },
          "metadata": {
            "tags": [],
            "needs_background": "light"
          }
        }
      ]
    },
    {
      "cell_type": "code",
      "metadata": {
        "colab": {
          "base_uri": "https://localhost:8080/"
        },
        "id": "ved9H_pOXeOv",
        "outputId": "3f4199ec-a369-47da-b5b5-9e8a83665f64"
      },
      "source": [
        "vgg16_model = tf.keras.applications.vgg16.VGG16()"
      ],
      "execution_count": 7,
      "outputs": [
        {
          "output_type": "stream",
          "text": [
            "Downloading data from https://storage.googleapis.com/tensorflow/keras-applications/vgg16/vgg16_weights_tf_dim_ordering_tf_kernels.h5\n",
            "553467904/553467096 [==============================] - 3s 0us/step\n"
          ],
          "name": "stdout"
        }
      ]
    },
    {
      "cell_type": "code",
      "metadata": {
        "id": "lHdqtOSzYBxl"
      },
      "source": [
        "model = Sequential()\r\n",
        "for layer in vgg16_model.layers[:-1]:\r\n",
        "    model.add(layer)\r\n",
        "for layer in model.layers:\r\n",
        "    layer.trainable = False\r\n",
        "model.add(Dense(units=3, activation='softmax'))\r\n",
        "model.compile(optimizer=optimizers.Adam(learning_rate=0.0001), loss='categorical_crossentropy', metrics=['accuracy'])"
      ],
      "execution_count": 8,
      "outputs": []
    },
    {
      "cell_type": "code",
      "metadata": {
        "colab": {
          "base_uri": "https://localhost:8080/"
        },
        "id": "1wITUoNHTga8",
        "outputId": "a2ce63a7-823c-4ace-d131-d36d2d786754"
      },
      "source": [
        "model.summary()"
      ],
      "execution_count": 9,
      "outputs": [
        {
          "output_type": "stream",
          "text": [
            "Model: \"sequential\"\n",
            "_________________________________________________________________\n",
            "Layer (type)                 Output Shape              Param #   \n",
            "=================================================================\n",
            "block1_conv1 (Conv2D)        (None, 224, 224, 64)      1792      \n",
            "_________________________________________________________________\n",
            "block1_conv2 (Conv2D)        (None, 224, 224, 64)      36928     \n",
            "_________________________________________________________________\n",
            "block1_pool (MaxPooling2D)   (None, 112, 112, 64)      0         \n",
            "_________________________________________________________________\n",
            "block2_conv1 (Conv2D)        (None, 112, 112, 128)     73856     \n",
            "_________________________________________________________________\n",
            "block2_conv2 (Conv2D)        (None, 112, 112, 128)     147584    \n",
            "_________________________________________________________________\n",
            "block2_pool (MaxPooling2D)   (None, 56, 56, 128)       0         \n",
            "_________________________________________________________________\n",
            "block3_conv1 (Conv2D)        (None, 56, 56, 256)       295168    \n",
            "_________________________________________________________________\n",
            "block3_conv2 (Conv2D)        (None, 56, 56, 256)       590080    \n",
            "_________________________________________________________________\n",
            "block3_conv3 (Conv2D)        (None, 56, 56, 256)       590080    \n",
            "_________________________________________________________________\n",
            "block3_pool (MaxPooling2D)   (None, 28, 28, 256)       0         \n",
            "_________________________________________________________________\n",
            "block4_conv1 (Conv2D)        (None, 28, 28, 512)       1180160   \n",
            "_________________________________________________________________\n",
            "block4_conv2 (Conv2D)        (None, 28, 28, 512)       2359808   \n",
            "_________________________________________________________________\n",
            "block4_conv3 (Conv2D)        (None, 28, 28, 512)       2359808   \n",
            "_________________________________________________________________\n",
            "block4_pool (MaxPooling2D)   (None, 14, 14, 512)       0         \n",
            "_________________________________________________________________\n",
            "block5_conv1 (Conv2D)        (None, 14, 14, 512)       2359808   \n",
            "_________________________________________________________________\n",
            "block5_conv2 (Conv2D)        (None, 14, 14, 512)       2359808   \n",
            "_________________________________________________________________\n",
            "block5_conv3 (Conv2D)        (None, 14, 14, 512)       2359808   \n",
            "_________________________________________________________________\n",
            "block5_pool (MaxPooling2D)   (None, 7, 7, 512)         0         \n",
            "_________________________________________________________________\n",
            "flatten (Flatten)            (None, 25088)             0         \n",
            "_________________________________________________________________\n",
            "fc1 (Dense)                  (None, 4096)              102764544 \n",
            "_________________________________________________________________\n",
            "fc2 (Dense)                  (None, 4096)              16781312  \n",
            "_________________________________________________________________\n",
            "dense (Dense)                (None, 3)                 12291     \n",
            "=================================================================\n",
            "Total params: 134,272,835\n",
            "Trainable params: 12,291\n",
            "Non-trainable params: 134,260,544\n",
            "_________________________________________________________________\n"
          ],
          "name": "stdout"
        }
      ]
    },
    {
      "cell_type": "code",
      "metadata": {
        "colab": {
          "base_uri": "https://localhost:8080/"
        },
        "id": "Wm9TA5LvABmz",
        "outputId": "58c881e7-b59f-4785-f1fb-0ee829d343d4"
      },
      "source": [
        "train_path = './bigger_data/train_og_500/'\r\n",
        "train_batches = ImageDataGenerator(preprocessing_function=tf.keras.applications.vgg16.preprocess_input) \\\r\n",
        "    .flow_from_directory(directory=train_path, target_size=(224,224), classes=['happiness', 'neutral', 'anger'], batch_size=10)\r\n",
        "valid_path = './bigger_data/valid_og_500/'\r\n",
        "valid_batches = ImageDataGenerator(preprocessing_function=tf.keras.applications.vgg16.preprocess_input) \\\r\n",
        "    .flow_from_directory(directory=valid_path, target_size=(224,224), classes=['happiness', 'neutral', 'anger'], batch_size=10)\r\n"
      ],
      "execution_count": 10,
      "outputs": [
        {
          "output_type": "stream",
          "text": [
            "Found 356 images belonging to 3 classes.\n",
            "Found 40 images belonging to 3 classes.\n"
          ],
          "name": "stdout"
        }
      ]
    },
    {
      "cell_type": "code",
      "metadata": {
        "id": "9sxLx_ctl-oS"
      },
      "source": [
        "# history = model.fit(x=train_batches,\r\n",
        "#           steps_per_epoch=len(train_batches),\r\n",
        "#           validation_data=valid_batches,\r\n",
        "#           validation_steps=len(valid_batches),\r\n",
        "#           epochs=5,\r\n",
        "#           verbose=2\r\n",
        "# )"
      ],
      "execution_count": null,
      "outputs": []
    },
    {
      "cell_type": "code",
      "metadata": {
        "colab": {
          "base_uri": "https://localhost:8080/"
        },
        "id": "b61SPgNQBrTP",
        "outputId": "6a33edce-0fbd-4098-d839-a8ac1ba9b26d"
      },
      "source": [
        "history = model.fit(x=train_batches,\r\n",
        "          steps_per_epoch=len(train_batches),\r\n",
        "          validation_data=valid_batches,\r\n",
        "          validation_steps=len(valid_batches),\r\n",
        "          epochs=10 ,\r\n",
        "          verbose=2\r\n",
        ")"
      ],
      "execution_count": 11,
      "outputs": [
        {
          "output_type": "stream",
          "text": [
            "Epoch 1/10\n",
            "36/36 - 68s - loss: 1.2372 - accuracy: 0.3820 - val_loss: 1.1454 - val_accuracy: 0.4500\n",
            "Epoch 2/10\n",
            "36/36 - 2s - loss: 1.1100 - accuracy: 0.4410 - val_loss: 1.0896 - val_accuracy: 0.4500\n",
            "Epoch 3/10\n",
            "36/36 - 2s - loss: 1.0235 - accuracy: 0.5225 - val_loss: 1.0243 - val_accuracy: 0.5000\n",
            "Epoch 4/10\n",
            "36/36 - 2s - loss: 0.9578 - accuracy: 0.5365 - val_loss: 0.9675 - val_accuracy: 0.5250\n",
            "Epoch 5/10\n",
            "36/36 - 2s - loss: 0.9060 - accuracy: 0.6039 - val_loss: 0.9372 - val_accuracy: 0.5500\n",
            "Epoch 6/10\n",
            "36/36 - 2s - loss: 0.8697 - accuracy: 0.6039 - val_loss: 0.9124 - val_accuracy: 0.6000\n",
            "Epoch 7/10\n",
            "36/36 - 2s - loss: 0.8268 - accuracy: 0.6545 - val_loss: 0.9030 - val_accuracy: 0.5500\n",
            "Epoch 8/10\n",
            "36/36 - 2s - loss: 0.8006 - accuracy: 0.6713 - val_loss: 0.8959 - val_accuracy: 0.5500\n",
            "Epoch 9/10\n",
            "36/36 - 2s - loss: 0.7754 - accuracy: 0.6910 - val_loss: 0.8972 - val_accuracy: 0.5500\n",
            "Epoch 10/10\n",
            "36/36 - 2s - loss: 0.7509 - accuracy: 0.7079 - val_loss: 0.8829 - val_accuracy: 0.6000\n"
          ],
          "name": "stdout"
        }
      ]
    },
    {
      "cell_type": "code",
      "metadata": {
        "colab": {
          "base_uri": "https://localhost:8080/"
        },
        "id": "XJ8oqIBSErEG",
        "outputId": "dfb6752a-18a1-4cda-d8b6-1eb5e68ac33c"
      },
      "source": [
        "valid_batches"
      ],
      "execution_count": 13,
      "outputs": [
        {
          "output_type": "execute_result",
          "data": {
            "text/plain": [
              "<tensorflow.python.keras.preprocessing.image.DirectoryIterator at 0x7f35700f4208>"
            ]
          },
          "metadata": {
            "tags": []
          },
          "execution_count": 13
        }
      ]
    },
    {
      "cell_type": "code",
      "metadata": {
        "id": "M-hp1xA4ud84",
        "colab": {
          "base_uri": "https://localhost:8080/",
          "height": 453
        },
        "outputId": "517e78a5-71cc-478a-d254-0fc8d56cb7c9"
      },
      "source": [
        "sns.set()\r\n",
        "fig = pyplot.figure(0, (12, 4))\r\n",
        "\r\n",
        "ax = pyplot.subplot(1, 2, 1)\r\n",
        "sns.lineplot(history.epoch, history.history['accuracy'], label='train')\r\n",
        "sns.lineplot(history.epoch, history.history['val_accuracy'], label='valid')\r\n",
        "pyplot.title('Accuracy')\r\n",
        "pyplot.tight_layout()\r\n",
        "\r\n",
        "ax = pyplot.subplot(1, 2, 2)\r\n",
        "sns.lineplot(history.epoch, history.history['loss'], label='train')\r\n",
        "sns.lineplot(history.epoch, history.history['val_loss'], label='valid')\r\n",
        "pyplot.title('Loss')\r\n",
        "pyplot.tight_layout()\r\n",
        "\r\n",
        "pyplot.savefig('epoch_history_dcnn.png')\r\n",
        "pyplot.show()"
      ],
      "execution_count": 12,
      "outputs": [
        {
          "output_type": "stream",
          "text": [
            "/usr/local/lib/python3.6/dist-packages/seaborn/_decorators.py:43: FutureWarning: Pass the following variables as keyword args: x, y. From version 0.12, the only valid positional argument will be `data`, and passing other arguments without an explicit keyword will result in an error or misinterpretation.\n",
            "  FutureWarning\n",
            "/usr/local/lib/python3.6/dist-packages/seaborn/_decorators.py:43: FutureWarning: Pass the following variables as keyword args: x, y. From version 0.12, the only valid positional argument will be `data`, and passing other arguments without an explicit keyword will result in an error or misinterpretation.\n",
            "  FutureWarning\n",
            "/usr/local/lib/python3.6/dist-packages/seaborn/_decorators.py:43: FutureWarning: Pass the following variables as keyword args: x, y. From version 0.12, the only valid positional argument will be `data`, and passing other arguments without an explicit keyword will result in an error or misinterpretation.\n",
            "  FutureWarning\n",
            "/usr/local/lib/python3.6/dist-packages/seaborn/_decorators.py:43: FutureWarning: Pass the following variables as keyword args: x, y. From version 0.12, the only valid positional argument will be `data`, and passing other arguments without an explicit keyword will result in an error or misinterpretation.\n",
            "  FutureWarning\n"
          ],
          "name": "stderr"
        },
        {
          "output_type": "display_data",
          "data": {
            "image/png": "[encoded data removed]",
            "text/plain": [
              "<Figure size 864x288 with 2 Axes>"
            ]
          },
          "metadata": {
            "tags": []
          }
        }
      ]
    },
    {
      "cell_type": "code",
      "metadata": {
        "id": "KwLSFmOlttYm",
        "colab": {
          "base_uri": "https://localhost:8080/"
        },
        "outputId": "8271cac7-3b05-4114-89cc-9cc5b94db096"
      },
      "source": [
        "result = model.predict(valid_batches)\r\n",
        "result"
      ],
      "execution_count": 16,
      "outputs": [
        {
          "output_type": "execute_result",
          "data": {
            "text/plain": [
              "array([[0.5086614 , 0.34869292, 0.14264569],\n",
              "       [0.6385316 , 0.28790298, 0.07356542],\n",
              "       [0.891588  , 0.07329533, 0.03511663],\n",
              "       [0.8994322 , 0.04413281, 0.05643511],\n",
              "       [0.50499517, 0.10732113, 0.3876837 ],\n",
              "       [0.6718471 , 0.10601515, 0.22213778],\n",
              "       [0.55278146, 0.24389854, 0.20332003],\n",
              "       [0.3795788 , 0.14879766, 0.4716235 ],\n",
              "       [0.37737644, 0.08314613, 0.53947747],\n",
              "       [0.45474902, 0.19687319, 0.34837776],\n",
              "       [0.5748978 , 0.12284886, 0.3022533 ],\n",
              "       [0.38622624, 0.34794033, 0.2658335 ],\n",
              "       [0.5541225 , 0.16553399, 0.2803435 ],\n",
              "       [0.6411803 , 0.07481303, 0.28400674],\n",
              "       [0.33955944, 0.14725265, 0.5131879 ],\n",
              "       [0.4285111 , 0.27410606, 0.2973828 ],\n",
              "       [0.6680621 , 0.15717676, 0.17476113],\n",
              "       [0.24298154, 0.25592768, 0.5010908 ],\n",
              "       [0.7833225 , 0.08043951, 0.13623798],\n",
              "       [0.11122299, 0.09591524, 0.7928618 ],\n",
              "       [0.85724133, 0.05108221, 0.09167646],\n",
              "       [0.06020533, 0.18852587, 0.75126886],\n",
              "       [0.87776715, 0.02653798, 0.09569492],\n",
              "       [0.58034295, 0.22897322, 0.19068381],\n",
              "       [0.7071869 , 0.07943377, 0.21337931],\n",
              "       [0.724913  , 0.14902028, 0.12606673],\n",
              "       [0.24078189, 0.07661842, 0.68259966],\n",
              "       [0.41712913, 0.06887927, 0.5139916 ],\n",
              "       [0.38859105, 0.03465097, 0.57675797],\n",
              "       [0.44261837, 0.09750847, 0.4598731 ],\n",
              "       [0.5299781 , 0.11749876, 0.35252315],\n",
              "       [0.5482327 , 0.03207448, 0.4196929 ],\n",
              "       [0.71914387, 0.1302597 , 0.15059647],\n",
              "       [0.35174373, 0.18774396, 0.46051225],\n",
              "       [0.6926353 , 0.17534539, 0.13201928],\n",
              "       [0.455607  , 0.25459787, 0.28979516],\n",
              "       [0.17351735, 0.01863897, 0.8078436 ],\n",
              "       [0.6261599 , 0.12676328, 0.2470768 ],\n",
              "       [0.5322827 , 0.06694221, 0.40077507],\n",
              "       [0.6162425 , 0.14388172, 0.23987575]], dtype=float32)"
            ]
          },
          "metadata": {
            "tags": []
          },
          "execution_count": 16
        }
      ]
    },
    {
      "cell_type": "code",
      "metadata": {
        "colab": {
          "base_uri": "https://localhost:8080/"
        },
        "id": "iq3CCQPWF2il",
        "outputId": "71247ed0-b14f-4f29-f26e-02fae9f8a89e"
      },
      "source": [
        "valid_batches.labels"
      ],
      "execution_count": 17,
      "outputs": [
        {
          "output_type": "execute_result",
          "data": {
            "text/plain": [
              "array([0, 0, 0, 0, 0, 0, 0, 0, 0, 0, 0, 0, 0, 0, 0, 0, 0, 0, 0, 0, 1, 1,\n",
              "       1, 1, 1, 1, 1, 1, 2, 2, 2, 2, 2, 2, 2, 2, 2, 2, 2, 2], dtype=int32)"
            ]
          },
          "metadata": {
            "tags": []
          },
          "execution_count": 17
        }
      ]
    },
    {
      "cell_type": "code",
      "metadata": {
        "colab": {
          "base_uri": "https://localhost:8080/"
        },
        "id": "RV3jAG6nGoTY",
        "outputId": "53f236b1-a716-4723-b956-de0a158e65bf"
      },
      "source": [
        "count = 0\r\n",
        "for i in range(len(result)):\r\n",
        "    if np.argmax(result[i]) == valid_batches.labels[i]:\r\n",
        "        count += 1\r\n",
        "print(count/len(result))"
      ],
      "execution_count": 21,
      "outputs": [
        {
          "output_type": "stream",
          "text": [
            "0.475\n"
          ],
          "name": "stdout"
        }
      ]
    }
  ]
}